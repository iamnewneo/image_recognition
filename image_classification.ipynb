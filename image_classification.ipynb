{
 "cells": [
  {
   "cell_type": "markdown",
   "metadata": {
    "collapsed": true,
    "deletable": true,
    "editable": true
   },
   "source": [
    "# Image Classification\n",
    "In this project, you'll classify images from the [CIFAR-10 dataset](https://www.cs.toronto.edu/~kriz/cifar.html).  The dataset consists of airplanes, dogs, cats, and other objects. You'll preprocess the images, then train a convolutional neural network on all the samples. The images need to be normalized and the labels need to be one-hot encoded.  You'll get to apply what you learned and build a convolutional, max pooling, dropout, and fully connected layers.  At the end, you'll get to see your neural network's predictions on the sample images.\n",
    "## Get the Data\n",
    "Run the following cell to download the [CIFAR-10 dataset for python](https://www.cs.toronto.edu/~kriz/cifar-10-python.tar.gz)."
   ]
  },
  {
   "cell_type": "code",
   "execution_count": 1,
   "metadata": {
    "collapsed": false
   },
   "outputs": [
    {
     "name": "stdout",
     "output_type": "stream",
     "text": [
      "Collecting tqdm\n",
      "  Downloading tqdm-4.11.2-py2.py3-none-any.whl (46kB)\n",
      "\u001b[K    100% |████████████████████████████████| 51kB 1.5MB/s ta 0:00:01\n",
      "\u001b[?25hInstalling collected packages: tqdm\n",
      "Successfully installed tqdm-4.11.2\n"
     ]
    }
   ],
   "source": [
    "!pip install tqdm"
   ]
  },
  {
   "cell_type": "code",
   "execution_count": 2,
   "metadata": {
    "collapsed": false,
    "deletable": true,
    "editable": true
   },
   "outputs": [
    {
     "name": "stderr",
     "output_type": "stream",
     "text": [
      "CIFAR-10 Dataset: 171MB [02:55, 974KB/s]                               \n"
     ]
    },
    {
     "name": "stdout",
     "output_type": "stream",
     "text": [
      "All files found!\n"
     ]
    }
   ],
   "source": [
    "\"\"\"\n",
    "DON'T MODIFY ANYTHING IN THIS CELL THAT IS BELOW THIS LINE\n",
    "\"\"\"\n",
    "from urllib.request import urlretrieve\n",
    "from os.path import isfile, isdir\n",
    "from tqdm import tqdm\n",
    "import problem_unittests as tests\n",
    "import tarfile\n",
    "\n",
    "cifar10_dataset_folder_path = 'cifar-10-batches-py'\n",
    "\n",
    "class DLProgress(tqdm):\n",
    "    last_block = 0\n",
    "\n",
    "    def hook(self, block_num=1, block_size=1, total_size=None):\n",
    "        self.total = total_size\n",
    "        self.update((block_num - self.last_block) * block_size)\n",
    "        self.last_block = block_num\n",
    "\n",
    "if not isfile('cifar-10-python.tar.gz'):\n",
    "    with DLProgress(unit='B', unit_scale=True, miniters=1, desc='CIFAR-10 Dataset') as pbar:\n",
    "        urlretrieve(\n",
    "            'https://www.cs.toronto.edu/~kriz/cifar-10-python.tar.gz',\n",
    "            'cifar-10-python.tar.gz',\n",
    "            pbar.hook)\n",
    "\n",
    "if not isdir(cifar10_dataset_folder_path):\n",
    "    with tarfile.open('cifar-10-python.tar.gz') as tar:\n",
    "        tar.extractall()\n",
    "        tar.close()\n",
    "\n",
    "\n",
    "tests.test_folder_path(cifar10_dataset_folder_path)"
   ]
  },
  {
   "cell_type": "markdown",
   "metadata": {
    "deletable": true,
    "editable": true
   },
   "source": [
    "## Explore the Data\n",
    "The dataset is broken into batches to prevent your machine from running out of memory.  The CIFAR-10 dataset consists of 5 batches, named `data_batch_1`, `data_batch_2`, etc.. Each batch contains the labels and images that are one of the following:\n",
    "* airplane\n",
    "* automobile\n",
    "* bird\n",
    "* cat\n",
    "* deer\n",
    "* dog\n",
    "* frog\n",
    "* horse\n",
    "* ship\n",
    "* truck\n",
    "\n",
    "Understanding a dataset is part of making predictions on the data.  Play around with the code cell below by changing the `batch_id` and `sample_id`. The `batch_id` is the id for a batch (1-5). The `sample_id` is the id for a image and label pair in the batch.\n",
    "\n",
    "Ask yourself \"What are all possible labels?\", \"What is the range of values for the image data?\", \"Are the labels in order or random?\".  Answers to questions like these will help you preprocess the data and end up with better predictions."
   ]
  },
  {
   "cell_type": "code",
   "execution_count": 3,
   "metadata": {
    "collapsed": false,
    "deletable": true,
    "editable": true
   },
   "outputs": [
    {
     "name": "stdout",
     "output_type": "stream",
     "text": [
      "\n",
      "Stats of batch 3:\n",
      "Samples: 10000\n",
      "Label Counts: {0: 994, 1: 1042, 2: 965, 3: 997, 4: 990, 5: 1029, 6: 978, 7: 1015, 8: 961, 9: 1029}\n",
      "First 20 Labels: [8, 5, 0, 6, 9, 2, 8, 3, 6, 2, 7, 4, 6, 9, 0, 0, 7, 3, 7, 2]\n",
      "\n",
      "Example of Image 42:\n",
      "Image - Min Value: 11 Max Value: 254\n",
      "Image - Shape: (32, 32, 3)\n",
      "Label - Label Id: 1 Name: automobile\n"
     ]
    },
    {
     "data": {
      "image/png": "[encoded data removed]",
      "text/plain": [
       "<matplotlib.figure.Figure at 0x7fdd7c88dac8>"
      ]
     },
     "metadata": {
      "image/png": {
       "height": 250,
       "width": 253
      }
     },
     "output_type": "display_data"
    }
   ],
   "source": [
    "%matplotlib inline\n",
    "%config InlineBackend.figure_format = 'retina'\n",
    "\n",
    "import helper\n",
    "import numpy as np\n",
    "\n",
    "# Explore the dataset\n",
    "batch_id = 3\n",
    "sample_id = 42\n",
    "helper.display_stats(cifar10_dataset_folder_path, batch_id, sample_id)"
   ]
  },
  {
   "cell_type": "markdown",
   "metadata": {
    "deletable": true,
    "editable": true
   },
   "source": [
    "## Implement Preprocess Functions\n",
    "### Normalize\n",
    "In the cell below, implement the `normalize` function to take in image data, `x`, and return it as a normalized Numpy array. The values should be in the range of 0 to 1, inclusive.  The return object should be the same shape as `x`."
   ]
  },
  {
   "cell_type": "code",
   "execution_count": 5,
   "metadata": {
    "collapsed": false,
    "deletable": true,
    "editable": true
   },
   "outputs": [
    {
     "name": "stdout",
     "output_type": "stream",
     "text": [
      "Tests Passed\n"
     ]
    }
   ],
   "source": [
    "def normalize(x):\n",
    "    \"\"\"\n",
    "    Normalize a list of sample image data in the range of 0 to 1\n",
    "    : x: List of image data.  The image shape is (32, 32, 3)\n",
    "    : return: Numpy array of normalize data\n",
    "    \"\"\"\n",
    "    # TODO: Implement Function\n",
    "    normalized = x/255.0\n",
    "    # I tried below code also but it failed tests. This was the best way to normalize as mentioned\n",
    "    # in the lecture videos\n",
    "    # normalized = (x-128)/128.0\n",
    "    return normalized\n",
    "\n",
    "\n",
    "\"\"\"\n",
    "DON'T MODIFY ANYTHING IN THIS CELL THAT IS BELOW THIS LINE\n",
    "\"\"\"\n",
    "tests.test_normalize(normalize)"
   ]
  },
  {
   "cell_type": "markdown",
   "metadata": {
    "deletable": true,
    "editable": true
   },
   "source": [
    "### One-hot encode\n",
    "Just like the previous code cell, you'll be implementing a function for preprocessing.  This time, you'll implement the `one_hot_encode` function. The input, `x`, are a list of labels.  Implement the function to return the list of labels as One-Hot encoded Numpy array.  The possible values for labels are 0 to 9. The one-hot encoding function should return the same encoding for each value between each call to `one_hot_encode`.  Make sure to save the map of encodings outside the function.\n",
    "\n",
    "**Hint:**\n",
    "\n",
    "Look into LabelBinarizer in the preprocessing module of sklearn."
   ]
  },
  {
   "cell_type": "code",
   "execution_count": 6,
   "metadata": {
    "collapsed": false,
    "deletable": true,
    "editable": true
   },
   "outputs": [
    {
     "name": "stdout",
     "output_type": "stream",
     "text": [
      "Tests Passed\n"
     ]
    }
   ],
   "source": [
    "from sklearn import preprocessing\n",
    "\n",
    "encoder = preprocessing.LabelBinarizer()\n",
    "labels = list(range(10))\n",
    "encoder.fit(labels)\n",
    "\n",
    "def one_hot_encode(x):\n",
    "    \"\"\"\n",
    "    One hot encode a list of sample labels. Return a one-hot encoded vector for each label.\n",
    "    : x: List of sample Labels\n",
    "    : return: Numpy array of one-hot encoded labels\n",
    "    \"\"\"\n",
    "    # TODO: Implement Function\n",
    "    one_hot_encoded_values = encoder.transform(x)\n",
    "    return one_hot_encoded_values\n",
    "\n",
    "\n",
    "\"\"\"\n",
    "DON'T MODIFY ANYTHING IN THIS CELL THAT IS BELOW THIS LINE\n",
    "\"\"\"\n",
    "tests.test_one_hot_encode(one_hot_encode)"
   ]
  },
  {
   "cell_type": "markdown",
   "metadata": {
    "deletable": true,
    "editable": true
   },
   "source": [
    "### Randomize Data\n",
    "As you saw from exploring the data above, the order of the samples are randomized.  It doesn't hurt to randomize it again, but you don't need to for this dataset."
   ]
  },
  {
   "cell_type": "markdown",
   "metadata": {
    "deletable": true,
    "editable": true
   },
   "source": [
    "## Preprocess all the data and save it\n",
    "Running the code cell below will preprocess all the CIFAR-10 data and save it to file. The code below also uses 10% of the training data for validation."
   ]
  },
  {
   "cell_type": "code",
   "execution_count": 7,
   "metadata": {
    "collapsed": false,
    "deletable": true,
    "editable": true
   },
   "outputs": [],
   "source": [
    "\"\"\"\n",
    "DON'T MODIFY ANYTHING IN THIS CELL\n",
    "\"\"\"\n",
    "# Preprocess Training, Validation, and Testing Data\n",
    "helper.preprocess_and_save_data(cifar10_dataset_folder_path, normalize, one_hot_encode)"
   ]
  },
  {
   "cell_type": "markdown",
   "metadata": {
    "deletable": true,
    "editable": true
   },
   "source": [
    "# Check Point\n",
    "This is your first checkpoint.  If you ever decide to come back to this notebook or have to restart the notebook, you can start from here.  The preprocessed data has been saved to disk."
   ]
  },
  {
   "cell_type": "code",
   "execution_count": 8,
   "metadata": {
    "collapsed": true,
    "deletable": true,
    "editable": true
   },
   "outputs": [],
   "source": [
    "\"\"\"\n",
    "DON'T MODIFY ANYTHING IN THIS CELL\n",
    "\"\"\"\n",
    "import pickle\n",
    "import problem_unittests as tests\n",
    "import helper\n",
    "\n",
    "# Load the Preprocessed Validation data\n",
    "valid_features, valid_labels = pickle.load(open('preprocess_validation.p', mode='rb'))"
   ]
  },
  {
   "cell_type": "markdown",
   "metadata": {
    "deletable": true,
    "editable": true
   },
   "source": [
    "## Build the network\n",
    "For the neural network, you'll build each layer into a function.  Most of the code you've seen has been outside of functions. To test your code more thoroughly, we require that you put each layer in a function.  This allows us to give you better feedback and test for simple mistakes using our unittests before you submit your project.\n",
    "\n",
    ">**Note:** If you're finding it hard to dedicate enough time for this course each week, we've provided a small shortcut to this part of the project. In the next couple of problems, you'll have the option to use classes from the [TensorFlow Layers](https://www.tensorflow.org/api_docs/python/tf/layers) or [TensorFlow Layers (contrib)](https://www.tensorflow.org/api_guides/python/contrib.layers) packages to build each layer, except the layers you build in the \"Convolutional and Max Pooling Layer\" section.  TF Layers is similar to Keras's and TFLearn's abstraction to layers, so it's easy to pickup.\n",
    "\n",
    ">However, if you would like to get the most out of this course, try to solve all the problems _without_ using anything from the TF Layers packages. You **can** still use classes from other packages that happen to have the same name as ones you find in TF Layers! For example, instead of using the TF Layers version of the `conv2d` class, [tf.layers.conv2d](https://www.tensorflow.org/api_docs/python/tf/layers/conv2d), you would want to use the TF Neural Network version of `conv2d`, [tf.nn.conv2d](https://www.tensorflow.org/api_docs/python/tf/nn/conv2d). \n",
    "\n",
    "Let's begin!\n",
    "\n",
    "### Input\n",
    "The neural network needs to read the image data, one-hot encoded labels, and dropout keep probability. Implement the following functions\n",
    "* Implement `neural_net_image_input`\n",
    " * Return a [TF Placeholder](https://www.tensorflow.org/api_docs/python/tf/placeholder)\n",
    " * Set the shape using `image_shape` with batch size set to `None`.\n",
    " * Name the TensorFlow placeholder \"x\" using the TensorFlow `name` parameter in the [TF Placeholder](https://www.tensorflow.org/api_docs/python/tf/placeholder).\n",
    "* Implement `neural_net_label_input`\n",
    " * Return a [TF Placeholder](https://www.tensorflow.org/api_docs/python/tf/placeholder)\n",
    " * Set the shape using `n_classes` with batch size set to `None`.\n",
    " * Name the TensorFlow placeholder \"y\" using the TensorFlow `name` parameter in the [TF Placeholder](https://www.tensorflow.org/api_docs/python/tf/placeholder).\n",
    "* Implement `neural_net_keep_prob_input`\n",
    " * Return a [TF Placeholder](https://www.tensorflow.org/api_docs/python/tf/placeholder) for dropout keep probability.\n",
    " * Name the TensorFlow placeholder \"keep_prob\" using the TensorFlow `name` parameter in the [TF Placeholder](https://www.tensorflow.org/api_docs/python/tf/placeholder).\n",
    "\n",
    "These names will be used at the end of the project to load your saved model.\n",
    "\n",
    "Note: `None` for shapes in TensorFlow allow for a dynamic size."
   ]
  },
  {
   "cell_type": "code",
   "execution_count": 9,
   "metadata": {
    "collapsed": false,
    "deletable": true,
    "editable": true
   },
   "outputs": [
    {
     "name": "stdout",
     "output_type": "stream",
     "text": [
      "Image Input Tests Passed.\n",
      "Label Input Tests Passed.\n",
      "Keep Prob Tests Passed.\n"
     ]
    }
   ],
   "source": [
    "import tensorflow as tf\n",
    "\n",
    "def neural_net_image_input(image_shape):\n",
    "    \"\"\"\n",
    "    Return a Tensor for a batch of image input\n",
    "    : image_shape: Shape of the images\n",
    "    : return: Tensor for image input.\n",
    "    \"\"\"\n",
    "    # TODO: Implement Function\n",
    "    width, height, colour_channels = image_shape\n",
    "    image_input_tensor = tf.placeholder(tf.float32, shape=[None, width, height, colour_channels], name=\"x\")\n",
    "    return image_input_tensor\n",
    "\n",
    "\n",
    "def neural_net_label_input(n_classes):\n",
    "    \"\"\"\n",
    "    Return a Tensor for a batch of label input\n",
    "    : n_classes: Number of classes\n",
    "    : return: Tensor for label input.\n",
    "    \"\"\"\n",
    "    # TODO: Implement Function\n",
    "    input_label_tensor = tf.placeholder(tf.float32, shape=[None, n_classes], name=\"y\")\n",
    "    return input_label_tensor\n",
    "\n",
    "\n",
    "def neural_net_keep_prob_input():\n",
    "    \"\"\"\n",
    "    Return a Tensor for keep probability\n",
    "    : return: Tensor for keep probability.\n",
    "    \"\"\"\n",
    "    # TODO: Implement Function\n",
    "    proba_tensor = tf.placeholder(tf.float32, name=\"keep_prob\")\n",
    "    return proba_tensor\n",
    "\n",
    "\n",
    "\"\"\"\n",
    "DON'T MODIFY ANYTHING IN THIS CELL THAT IS BELOW THIS LINE\n",
    "\"\"\"\n",
    "tf.reset_default_graph()\n",
    "tests.test_nn_image_inputs(neural_net_image_input)\n",
    "tests.test_nn_label_inputs(neural_net_label_input)\n",
    "tests.test_nn_keep_prob_inputs(neural_net_keep_prob_input)"
   ]
  },
  {
   "cell_type": "markdown",
   "metadata": {
    "deletable": true,
    "editable": true
   },
   "source": [
    "### Convolution and Max Pooling Layer\n",
    "Convolution layers have a lot of success with images. For this code cell, you should implement the function `conv2d_maxpool` to apply convolution then max pooling:\n",
    "* Create the weight and bias using `conv_ksize`, `conv_num_outputs` and the shape of `x_tensor`.\n",
    "* Apply a convolution to `x_tensor` using weight and `conv_strides`.\n",
    " * We recommend you use same padding, but you're welcome to use any padding.\n",
    "* Add bias\n",
    "* Add a nonlinear activation to the convolution.\n",
    "* Apply Max Pooling using `pool_ksize` and `pool_strides`.\n",
    " * We recommend you use same padding, but you're welcome to use any padding.\n",
    "\n",
    "**Note:** You **can't** use [TensorFlow Layers](https://www.tensorflow.org/api_docs/python/tf/layers) or [TensorFlow Layers (contrib)](https://www.tensorflow.org/api_guides/python/contrib.layers) for **this** layer, but you can still use TensorFlow's [Neural Network](https://www.tensorflow.org/api_docs/python/tf/nn) package. You may still use the shortcut option for all the **other** layers.\n",
    "\n",
    "** Hint: **\n",
    "\n",
    "When unpacking values as an argument in Python, look into the [unpacking](https://docs.python.org/3/tutorial/controlflow.html#unpacking-argument-lists) operator. "
   ]
  },
  {
   "cell_type": "code",
   "execution_count": 10,
   "metadata": {
    "collapsed": false,
    "deletable": true,
    "editable": true
   },
   "outputs": [
    {
     "name": "stdout",
     "output_type": "stream",
     "text": [
      "Tests Passed\n"
     ]
    }
   ],
   "source": [
    "def conv2d_maxpool(x_tensor, conv_num_outputs, conv_ksize, conv_strides, pool_ksize, pool_strides):\n",
    "    \"\"\"\n",
    "    Apply convolution then max pooling to x_tensor\n",
    "    :param x_tensor: TensorFlow Tensor\n",
    "    :param conv_num_outputs: Number of outputs for the convolutional layer\n",
    "    :param conv_ksize: kernal size 2-D Tuple for the convolutional layer\n",
    "    :param conv_strides: Stride 2-D Tuple for convolution\n",
    "    :param pool_ksize: kernal size 2-D Tuple for pool\n",
    "    :param pool_strides: Stride 2-D Tuple for pool\n",
    "    : return: A tensor that represents convolution and max pooling of x_tensor\n",
    "    \"\"\"\n",
    "    # TODO: Implement Function\n",
    "    shape = [conv_ksize[0], conv_ksize[1], x_tensor.get_shape().as_list()[3], conv_num_outputs]\n",
    "    weight = tf.Variable(tf.truncated_normal(shape, stddev=0.05))\n",
    "    bias = tf.Variable(tf.constant(0.05, shape=[conv_num_outputs]))\n",
    "    \n",
    "    layer = tf.nn.conv2d(input=x_tensor, filter=weight, strides=[1, conv_strides[0], conv_strides[1], 1],\\\n",
    "                        padding=\"SAME\")\n",
    "    layer = tf.nn.bias_add(layer, bias)\n",
    "    \n",
    "    layer = tf.nn.relu(layer)\n",
    "    \n",
    "    layer = tf.nn.max_pool(layer, ksize=[1, pool_ksize[0], pool_ksize[1], 1],\n",
    "        strides=[1, pool_strides[0], pool_strides[1], 1],\n",
    "        padding='SAME')\n",
    "    \n",
    "    return layer \n",
    "\n",
    "\n",
    "\"\"\"\n",
    "DON'T MODIFY ANYTHING IN THIS CELL THAT IS BELOW THIS LINE\n",
    "\"\"\"\n",
    "tests.test_con_pool(conv2d_maxpool)"
   ]
  },
  {
   "cell_type": "markdown",
   "metadata": {
    "deletable": true,
    "editable": true
   },
   "source": [
    "### Flatten Layer\n",
    "Implement the `flatten` function to change the dimension of `x_tensor` from a 4-D tensor to a 2-D tensor.  The output should be the shape (*Batch Size*, *Flattened Image Size*). Shortcut option: you can use classes from the [TensorFlow Layers](https://www.tensorflow.org/api_docs/python/tf/layers) or [TensorFlow Layers (contrib)](https://www.tensorflow.org/api_guides/python/contrib.layers) packages for this layer. For more of a challenge, only use other TensorFlow packages."
   ]
  },
  {
   "cell_type": "code",
   "execution_count": 11,
   "metadata": {
    "collapsed": false,
    "deletable": true,
    "editable": true
   },
   "outputs": [
    {
     "name": "stdout",
     "output_type": "stream",
     "text": [
      "Tests Passed\n"
     ]
    }
   ],
   "source": [
    "def flatten(x_tensor):\n",
    "    \"\"\"\n",
    "    Flatten x_tensor to (Batch Size, Flattened Image Size)\n",
    "    : x_tensor: A tensor of size (Batch Size, ...), where ... are the image dimensions.\n",
    "    : return: A tensor of size (Batch Size, Flattened Image Size).\n",
    "    \"\"\"\n",
    "    # TODO: Implement Function\n",
    "    layer_shape = x_tensor.get_shape()\n",
    "    \n",
    "    num_features = layer_shape[1:4].num_elements()\n",
    "    \n",
    "    layer_flat = tf.reshape(x_tensor, [-1, num_features])\n",
    "    return layer_flat\n",
    "\n",
    "\n",
    "\"\"\"\n",
    "DON'T MODIFY ANYTHING IN THIS CELL THAT IS BELOW THIS LINE\n",
    "\"\"\"\n",
    "tests.test_flatten(flatten)"
   ]
  },
  {
   "cell_type": "markdown",
   "metadata": {
    "deletable": true,
    "editable": true
   },
   "source": [
    "### Fully-Connected Layer\n",
    "Implement the `fully_conn` function to apply a fully connected layer to `x_tensor` with the shape (*Batch Size*, *num_outputs*). Shortcut option: you can use classes from the [TensorFlow Layers](https://www.tensorflow.org/api_docs/python/tf/layers) or [TensorFlow Layers (contrib)](https://www.tensorflow.org/api_guides/python/contrib.layers) packages for this layer. For more of a challenge, only use other TensorFlow packages."
   ]
  },
  {
   "cell_type": "code",
   "execution_count": 12,
   "metadata": {
    "collapsed": false,
    "deletable": true,
    "editable": true
   },
   "outputs": [
    {
     "name": "stdout",
     "output_type": "stream",
     "text": [
      "Tests Passed\n"
     ]
    }
   ],
   "source": [
    "def fully_conn(x_tensor, num_outputs):\n",
    "    \"\"\"\n",
    "    Apply a fully connected layer to x_tensor using weight and bias\n",
    "    : x_tensor: A 2-D tensor where the first dimension is batch size.\n",
    "    : num_outputs: The number of output that the new tensor should be.\n",
    "    : return: A 2-D tensor where the second dimension is num_outputs.\n",
    "    \"\"\"\n",
    "    # TODO: Implement Function\n",
    "    shape = [x_tensor.get_shape().as_list()[1], num_outputs]\n",
    "    weight = tf.Variable(tf.truncated_normal(shape, stddev=0.05))\n",
    "    bias = tf.Variable(tf.constant(0.05, shape=[num_outputs]))\n",
    "    \n",
    "    layer = tf.matmul(x_tensor, weight) + bias\n",
    "    \n",
    "    layer = tf.nn.relu(layer)\n",
    "    \n",
    "    return layer\n",
    "\n",
    "\n",
    "\"\"\"\n",
    "DON'T MODIFY ANYTHING IN THIS CELL THAT IS BELOW THIS LINE\n",
    "\"\"\"\n",
    "tests.test_fully_conn(fully_conn)"
   ]
  },
  {
   "cell_type": "markdown",
   "metadata": {
    "deletable": true,
    "editable": true
   },
   "source": [
    "### Output Layer\n",
    "Implement the `output` function to apply a fully connected layer to `x_tensor` with the shape (*Batch Size*, *num_outputs*). Shortcut option: you can use classes from the [TensorFlow Layers](https://www.tensorflow.org/api_docs/python/tf/layers) or [TensorFlow Layers (contrib)](https://www.tensorflow.org/api_guides/python/contrib.layers) packages for this layer. For more of a challenge, only use other TensorFlow packages.\n",
    "\n",
    "**Note:** Activation, softmax, or cross entropy should **not** be applied to this."
   ]
  },
  {
   "cell_type": "code",
   "execution_count": 14,
   "metadata": {
    "collapsed": false,
    "deletable": true,
    "editable": true
   },
   "outputs": [
    {
     "name": "stdout",
     "output_type": "stream",
     "text": [
      "Tests Passed\n"
     ]
    }
   ],
   "source": [
    "def output(x_tensor, num_outputs):\n",
    "    \"\"\"\n",
    "    Apply a output layer to x_tensor using weight and bias\n",
    "    : x_tensor: A 2-D tensor where the first dimension is batch size.\n",
    "    : num_outputs: The number of output that the new tensor should be.\n",
    "    : return: A 2-D tensor where the second dimension is num_outputs.\n",
    "    \"\"\"\n",
    "    # TODO: Implement Function\n",
    "    shape = [x_tensor.get_shape().as_list()[1], num_outputs]\n",
    "    weight = tf.Variable(tf.truncated_normal(shape, stddev=0.05))\n",
    "    bias = tf.Variable(tf.constant(0.05, shape=[num_outputs]))\n",
    "    \n",
    "    return tf.matmul(x_tensor, weight) + bias\n",
    "\n",
    "\n",
    "\"\"\"\n",
    "DON'T MODIFY ANYTHING IN THIS CELL THAT IS BELOW THIS LINE\n",
    "\"\"\"\n",
    "tests.test_output(output)"
   ]
  },
  {
   "cell_type": "markdown",
   "metadata": {
    "deletable": true,
    "editable": true
   },
   "source": [
    "### Create Convolutional Model\n",
    "Implement the function `conv_net` to create a convolutional neural network model. The function takes in a batch of images, `x`, and outputs logits.  Use the layers you created above to create this model:\n",
    "\n",
    "* Apply 1, 2, or 3 Convolution and Max Pool layers\n",
    "* Apply a Flatten Layer\n",
    "* Apply 1, 2, or 3 Fully Connected Layers\n",
    "* Apply an Output Layer\n",
    "* Return the output\n",
    "* Apply [TensorFlow's Dropout](https://www.tensorflow.org/api_docs/python/tf/nn/dropout) to one or more layers in the model using `keep_prob`. "
   ]
  },
  {
   "cell_type": "code",
   "execution_count": 15,
   "metadata": {
    "collapsed": false,
    "deletable": true,
    "editable": true
   },
   "outputs": [
    {
     "name": "stdout",
     "output_type": "stream",
     "text": [
      "Neural Network Built!\n"
     ]
    }
   ],
   "source": [
    "def conv_net(x, keep_prob):\n",
    "    \"\"\"\n",
    "    Create a convolutional neural network model\n",
    "    : x: Placeholder tensor that holds image data.\n",
    "    : keep_prob: Placeholder tensor that hold dropout keep probability.\n",
    "    : return: Tensor that represents logits\n",
    "    \"\"\"\n",
    "    # TODO: Apply 1, 2, or 3 Convolution and Max Pool layers\n",
    "    #    Play around with different number of outputs, kernel size and stride\n",
    "    # Function Definition from Above:\n",
    "    #    conv2d_maxpool(x_tensor, conv_num_outputs, conv_ksize, conv_strides, pool_ksize, pool_strides)\n",
    "    \n",
    "    conv_first = conv2d_maxpool(x, 32, [3,3], [1,1],[2,2],[2,2])\n",
    "    conv_first = tf.nn.dropout(conv_first, keep_prob)\n",
    "    \n",
    "    conv_second = conv2d_maxpool(conv_first, 64, [3,3], [1,1],[2,2],[2,2])\n",
    "    conv_second = tf.nn.dropout(conv_second, keep_prob)\n",
    "    \n",
    "\n",
    "    # TODO: Apply a Flatten Layer\n",
    "    # Function Definition from Above:\n",
    "    #   flatten(x_tensor)\n",
    "    \n",
    "    flatten_layer = flatten(conv_second)\n",
    "\n",
    "    # TODO: Apply 1, 2, or 3 Fully Connected Layers\n",
    "    #    Play around with different number of outputs\n",
    "    # Function Definition from Above:\n",
    "    #   fully_conn(x_tensor, num_outputs)\n",
    "       \n",
    "    fc_layer = fully_conn(flatten_layer, 128)\n",
    "    \n",
    "    # TODO: Apply an Output Layer\n",
    "    #    Set this to the number of classes\n",
    "    # Function Definition from Above:\n",
    "    #   output(x_tensor, num_outputs)\n",
    "    \n",
    "    out = output(fc_layer, 10)\n",
    "    \n",
    "    # TODO: return output\n",
    "    return out\n",
    "\n",
    "\n",
    "\"\"\"\n",
    "DON'T MODIFY ANYTHING IN THIS CELL THAT IS BELOW THIS LINE\n",
    "\"\"\"\n",
    "\n",
    "##############################\n",
    "## Build the Neural Network ##\n",
    "##############################\n",
    "\n",
    "# Remove previous weights, bias, inputs, etc..\n",
    "tf.reset_default_graph()\n",
    "\n",
    "# Inputs\n",
    "x = neural_net_image_input((32, 32, 3))\n",
    "y = neural_net_label_input(10)\n",
    "keep_prob = neural_net_keep_prob_input()\n",
    "\n",
    "# Model\n",
    "logits = conv_net(x, keep_prob)\n",
    "\n",
    "# Name logits Tensor, so that is can be loaded from disk after training\n",
    "logits = tf.identity(logits, name='logits')\n",
    "\n",
    "# Loss and Optimizer\n",
    "cost = tf.reduce_mean(tf.nn.softmax_cross_entropy_with_logits(logits=logits, labels=y))\n",
    "optimizer = tf.train.AdamOptimizer().minimize(cost)\n",
    "\n",
    "# Accuracy\n",
    "correct_pred = tf.equal(tf.argmax(logits, 1), tf.argmax(y, 1))\n",
    "accuracy = tf.reduce_mean(tf.cast(correct_pred, tf.float32), name='accuracy')\n",
    "\n",
    "tests.test_conv_net(conv_net)"
   ]
  },
  {
   "cell_type": "markdown",
   "metadata": {
    "deletable": true,
    "editable": true
   },
   "source": [
    "## Train the Neural Network\n",
    "### Single Optimization\n",
    "Implement the function `train_neural_network` to do a single optimization.  The optimization should use `optimizer` to optimize in `session` with a `feed_dict` of the following:\n",
    "* `x` for image input\n",
    "* `y` for labels\n",
    "* `keep_prob` for keep probability for dropout\n",
    "\n",
    "This function will be called for each batch, so `tf.global_variables_initializer()` has already been called.\n",
    "\n",
    "Note: Nothing needs to be returned. This function is only optimizing the neural network."
   ]
  },
  {
   "cell_type": "code",
   "execution_count": 16,
   "metadata": {
    "collapsed": false,
    "deletable": true,
    "editable": true
   },
   "outputs": [
    {
     "name": "stdout",
     "output_type": "stream",
     "text": [
      "Tests Passed\n"
     ]
    }
   ],
   "source": [
    "def train_neural_network(session, optimizer, keep_probability, feature_batch, label_batch):\n",
    "    \"\"\"\n",
    "    Optimize the session on a batch of images and labels\n",
    "    : session: Current TensorFlow session\n",
    "    : optimizer: TensorFlow optimizer function\n",
    "    : keep_probability: keep probability\n",
    "    : feature_batch: Batch of Numpy image data\n",
    "    : label_batch: Batch of Numpy label data\n",
    "    \"\"\"\n",
    "    # TODO: Implement Function\n",
    "    session.run(optimizer, feed_dict={x:feature_batch,y:label_batch,keep_prob:keep_probability})\n",
    "    pass\n",
    "\n",
    "\n",
    "\"\"\"\n",
    "DON'T MODIFY ANYTHING IN THIS CELL THAT IS BELOW THIS LINE\n",
    "\"\"\"\n",
    "tests.test_train_nn(train_neural_network)"
   ]
  },
  {
   "cell_type": "markdown",
   "metadata": {
    "deletable": true,
    "editable": true
   },
   "source": [
    "### Show Stats\n",
    "Implement the function `print_stats` to print loss and validation accuracy.  Use the global variables `valid_features` and `valid_labels` to calculate validation accuracy.  Use a keep probability of `1.0` to calculate the loss and validation accuracy."
   ]
  },
  {
   "cell_type": "code",
   "execution_count": 17,
   "metadata": {
    "collapsed": false,
    "deletable": true,
    "editable": true
   },
   "outputs": [],
   "source": [
    "def print_stats(session, feature_batch, label_batch, cost, accuracy):\n",
    "    \"\"\"\n",
    "    Print information about loss and validation accuracy\n",
    "    : session: Current TensorFlow session\n",
    "    : feature_batch: Batch of Numpy image data\n",
    "    : label_batch: Batch of Numpy label data\n",
    "    : cost: TensorFlow cost function\n",
    "    : accuracy: TensorFlow accuracy function\n",
    "    \"\"\"\n",
    "    # TODO: Implement Function\n",
    "    loss = session.run(cost, feed_dict={x:feature_batch, y:label_batch, keep_prob:1.0})\n",
    "    validation_accuracy = session.run(accuracy, feed_dict={x:valid_features, y:valid_labels, keep_prob:1.0})\n",
    "    \n",
    "    print(\"Loss is : \" + str(loss))\n",
    "    print(\"Validation accuracy is: \" + str(validation_accuracy))\n",
    "    pass"
   ]
  },
  {
   "cell_type": "markdown",
   "metadata": {
    "deletable": true,
    "editable": true
   },
   "source": [
    "### Hyperparameters\n",
    "Tune the following parameters:\n",
    "* Set `epochs` to the number of iterations until the network stops learning or start overfitting\n",
    "* Set `batch_size` to the highest number that your machine has memory for.  Most people set them to common sizes of memory:\n",
    " * 64\n",
    " * 128\n",
    " * 256\n",
    " * ...\n",
    "* Set `keep_probability` to the probability of keeping a node using dropout"
   ]
  },
  {
   "cell_type": "code",
   "execution_count": 18,
   "metadata": {
    "collapsed": true,
    "deletable": true,
    "editable": true
   },
   "outputs": [],
   "source": [
    "# TODO: Tune Parameters\n",
    "epochs = 50\n",
    "batch_size = 256\n",
    "keep_probability = 0.5"
   ]
  },
  {
   "cell_type": "markdown",
   "metadata": {
    "deletable": true,
    "editable": true
   },
   "source": [
    "### Train on a Single CIFAR-10 Batch\n",
    "Instead of training the neural network on all the CIFAR-10 batches of data, let's use a single batch. This should save time while you iterate on the model to get a better accuracy.  Once the final validation accuracy is 50% or greater, run the model on all the data in the next section."
   ]
  },
  {
   "cell_type": "code",
   "execution_count": 19,
   "metadata": {
    "collapsed": false,
    "deletable": true,
    "editable": true
   },
   "outputs": [
    {
     "name": "stdout",
     "output_type": "stream",
     "text": [
      "Checking the Training on a Single Batch...\n",
      "Epoch  1, CIFAR-10 Batch 1:  Loss is : 2.17759\n",
      "Validation accuracy is: 0.2414\n",
      "Epoch  2, CIFAR-10 Batch 1:  Loss is : 2.1089\n",
      "Validation accuracy is: 0.3022\n",
      "Epoch  3, CIFAR-10 Batch 1:  Loss is : 1.96491\n",
      "Validation accuracy is: 0.3604\n",
      "Epoch  4, CIFAR-10 Batch 1:  Loss is : 1.81401\n",
      "Validation accuracy is: 0.3916\n",
      "Epoch  5, CIFAR-10 Batch 1:  Loss is : 1.68239\n",
      "Validation accuracy is: 0.4114\n",
      "Epoch  6, CIFAR-10 Batch 1:  Loss is : 1.62443\n",
      "Validation accuracy is: 0.4274\n",
      "Epoch  7, CIFAR-10 Batch 1:  Loss is : 1.56891\n",
      "Validation accuracy is: 0.4506\n",
      "Epoch  8, CIFAR-10 Batch 1:  Loss is : 1.50127\n",
      "Validation accuracy is: 0.4626\n",
      "Epoch  9, CIFAR-10 Batch 1:  Loss is : 1.43647\n",
      "Validation accuracy is: 0.4698\n",
      "Epoch 10, CIFAR-10 Batch 1:  Loss is : 1.39613\n",
      "Validation accuracy is: 0.4802\n",
      "Epoch 11, CIFAR-10 Batch 1:  Loss is : 1.32511\n",
      "Validation accuracy is: 0.49\n",
      "Epoch 12, CIFAR-10 Batch 1:  Loss is : 1.22799\n",
      "Validation accuracy is: 0.5024\n",
      "Epoch 13, CIFAR-10 Batch 1:  Loss is : 1.1578\n",
      "Validation accuracy is: 0.5038\n",
      "Epoch 14, CIFAR-10 Batch 1:  Loss is : 1.11321\n",
      "Validation accuracy is: 0.519\n",
      "Epoch 15, CIFAR-10 Batch 1:  Loss is : 1.02338\n",
      "Validation accuracy is: 0.5286\n",
      "Epoch 16, CIFAR-10 Batch 1:  Loss is : 0.948992\n",
      "Validation accuracy is: 0.5338\n",
      "Epoch 17, CIFAR-10 Batch 1:  Loss is : 0.932957\n",
      "Validation accuracy is: 0.5312\n",
      "Epoch 18, CIFAR-10 Batch 1:  Loss is : 0.892376\n",
      "Validation accuracy is: 0.5296\n",
      "Epoch 19, CIFAR-10 Batch 1:  Loss is : 0.843265\n",
      "Validation accuracy is: 0.5362\n",
      "Epoch 20, CIFAR-10 Batch 1:  Loss is : 0.745061\n",
      "Validation accuracy is: 0.543\n",
      "Epoch 21, CIFAR-10 Batch 1:  Loss is : 0.714251\n",
      "Validation accuracy is: 0.5436\n",
      "Epoch 22, CIFAR-10 Batch 1:  Loss is : 0.634225\n",
      "Validation accuracy is: 0.5558\n",
      "Epoch 23, CIFAR-10 Batch 1:  Loss is : 0.615361\n",
      "Validation accuracy is: 0.5628\n",
      "Epoch 24, CIFAR-10 Batch 1:  Loss is : 0.569231\n",
      "Validation accuracy is: 0.5622\n",
      "Epoch 25, CIFAR-10 Batch 1:  Loss is : 0.541707\n",
      "Validation accuracy is: 0.5614\n",
      "Epoch 26, CIFAR-10 Batch 1:  Loss is : 0.499357\n",
      "Validation accuracy is: 0.5654\n",
      "Epoch 27, CIFAR-10 Batch 1:  Loss is : 0.480649\n",
      "Validation accuracy is: 0.5664\n",
      "Epoch 28, CIFAR-10 Batch 1:  Loss is : 0.442877\n",
      "Validation accuracy is: 0.572\n",
      "Epoch 29, CIFAR-10 Batch 1:  Loss is : 0.407804\n",
      "Validation accuracy is: 0.5758\n",
      "Epoch 30, CIFAR-10 Batch 1:  Loss is : 0.391089\n",
      "Validation accuracy is: 0.572\n",
      "Epoch 31, CIFAR-10 Batch 1:  Loss is : 0.342304\n",
      "Validation accuracy is: 0.5758\n",
      "Epoch 32, CIFAR-10 Batch 1:  Loss is : 0.33642\n",
      "Validation accuracy is: 0.5756\n",
      "Epoch 33, CIFAR-10 Batch 1:  Loss is : 0.325251\n",
      "Validation accuracy is: 0.5746\n",
      "Epoch 34, CIFAR-10 Batch 1:  Loss is : 0.290933\n",
      "Validation accuracy is: 0.5792\n",
      "Epoch 35, CIFAR-10 Batch 1:  Loss is : 0.288617\n",
      "Validation accuracy is: 0.5832\n",
      "Epoch 36, CIFAR-10 Batch 1:  Loss is : 0.265036\n",
      "Validation accuracy is: 0.5854\n",
      "Epoch 37, CIFAR-10 Batch 1:  Loss is : 0.247145\n",
      "Validation accuracy is: 0.5886\n",
      "Epoch 38, CIFAR-10 Batch 1:  Loss is : 0.231166\n",
      "Validation accuracy is: 0.5862\n",
      "Epoch 39, CIFAR-10 Batch 1:  Loss is : 0.205793\n",
      "Validation accuracy is: 0.587\n",
      "Epoch 40, CIFAR-10 Batch 1:  Loss is : 0.200874\n",
      "Validation accuracy is: 0.5892\n",
      "Epoch 41, CIFAR-10 Batch 1:  Loss is : 0.187766\n",
      "Validation accuracy is: 0.5964\n",
      "Epoch 42, CIFAR-10 Batch 1:  Loss is : 0.17931\n",
      "Validation accuracy is: 0.5932\n",
      "Epoch 43, CIFAR-10 Batch 1:  Loss is : 0.174148\n",
      "Validation accuracy is: 0.5932\n",
      "Epoch 44, CIFAR-10 Batch 1:  Loss is : 0.165212\n",
      "Validation accuracy is: 0.5908\n",
      "Epoch 45, CIFAR-10 Batch 1:  Loss is : 0.133625\n",
      "Validation accuracy is: 0.6038\n",
      "Epoch 46, CIFAR-10 Batch 1:  Loss is : 0.127474\n",
      "Validation accuracy is: 0.6058\n",
      "Epoch 47, CIFAR-10 Batch 1:  Loss is : 0.131928\n",
      "Validation accuracy is: 0.5926\n",
      "Epoch 48, CIFAR-10 Batch 1:  Loss is : 0.124348\n",
      "Validation accuracy is: 0.6002\n",
      "Epoch 49, CIFAR-10 Batch 1:  Loss is : 0.111985\n",
      "Validation accuracy is: 0.604\n",
      "Epoch 50, CIFAR-10 Batch 1:  Loss is : 0.104369\n",
      "Validation accuracy is: 0.602\n"
     ]
    }
   ],
   "source": [
    "\"\"\"\n",
    "DON'T MODIFY ANYTHING IN THIS CELL\n",
    "\"\"\"\n",
    "print('Checking the Training on a Single Batch...')\n",
    "with tf.Session() as sess:\n",
    "    # Initializing the variables\n",
    "    sess.run(tf.global_variables_initializer())\n",
    "    \n",
    "    # Training cycle\n",
    "    for epoch in range(epochs):\n",
    "        batch_i = 1\n",
    "        for batch_features, batch_labels in helper.load_preprocess_training_batch(batch_i, batch_size):\n",
    "            train_neural_network(sess, optimizer, keep_probability, batch_features, batch_labels)\n",
    "        print('Epoch {:>2}, CIFAR-10 Batch {}:  '.format(epoch + 1, batch_i), end='')\n",
    "        print_stats(sess, batch_features, batch_labels, cost, accuracy)"
   ]
  },
  {
   "cell_type": "markdown",
   "metadata": {
    "deletable": true,
    "editable": true
   },
   "source": [
    "### Fully Train the Model\n",
    "Now that you got a good accuracy with a single CIFAR-10 batch, try it with all five batches."
   ]
  },
  {
   "cell_type": "code",
   "execution_count": 20,
   "metadata": {
    "collapsed": false,
    "deletable": true,
    "editable": true
   },
   "outputs": [
    {
     "name": "stdout",
     "output_type": "stream",
     "text": [
      "Training...\n",
      "Epoch  1, CIFAR-10 Batch 1:  Loss is : 2.13481\n",
      "Validation accuracy is: 0.2416\n",
      "Epoch  1, CIFAR-10 Batch 2:  Loss is : 1.95872\n",
      "Validation accuracy is: 0.3248\n",
      "Epoch  1, CIFAR-10 Batch 3:  Loss is : 1.65596\n",
      "Validation accuracy is: 0.3734\n",
      "Epoch  1, CIFAR-10 Batch 4:  Loss is : 1.69802\n",
      "Validation accuracy is: 0.4044\n",
      "Epoch  1, CIFAR-10 Batch 5:  Loss is : 1.68646\n",
      "Validation accuracy is: 0.4296\n",
      "Epoch  2, CIFAR-10 Batch 1:  Loss is : 1.74523\n",
      "Validation accuracy is: 0.45\n",
      "Epoch  2, CIFAR-10 Batch 2:  Loss is : 1.51213\n",
      "Validation accuracy is: 0.4662\n",
      "Epoch  2, CIFAR-10 Batch 3:  Loss is : 1.28167\n",
      "Validation accuracy is: 0.459\n",
      "Epoch  2, CIFAR-10 Batch 4:  Loss is : 1.45632\n",
      "Validation accuracy is: 0.477\n",
      "Epoch  2, CIFAR-10 Batch 5:  Loss is : 1.45549\n",
      "Validation accuracy is: 0.4968\n",
      "Epoch  3, CIFAR-10 Batch 1:  Loss is : 1.53458\n",
      "Validation accuracy is: 0.521\n",
      "Epoch  3, CIFAR-10 Batch 2:  Loss is : 1.24985\n",
      "Validation accuracy is: 0.5066\n",
      "Epoch  3, CIFAR-10 Batch 3:  Loss is : 1.06352\n",
      "Validation accuracy is: 0.5254\n",
      "Epoch  3, CIFAR-10 Batch 4:  Loss is : 1.30262\n",
      "Validation accuracy is: 0.5334\n",
      "Epoch  3, CIFAR-10 Batch 5:  Loss is : 1.30943\n",
      "Validation accuracy is: 0.5436\n",
      "Epoch  4, CIFAR-10 Batch 1:  Loss is : 1.38255\n",
      "Validation accuracy is: 0.5584\n",
      "Epoch  4, CIFAR-10 Batch 2:  Loss is : 1.11832\n",
      "Validation accuracy is: 0.5442\n",
      "Epoch  4, CIFAR-10 Batch 3:  Loss is : 0.92009\n",
      "Validation accuracy is: 0.557\n",
      "Epoch  4, CIFAR-10 Batch 4:  Loss is : 1.16735\n",
      "Validation accuracy is: 0.5716\n",
      "Epoch  4, CIFAR-10 Batch 5:  Loss is : 1.2197\n",
      "Validation accuracy is: 0.557\n",
      "Epoch  5, CIFAR-10 Batch 1:  Loss is : 1.23664\n",
      "Validation accuracy is: 0.5786\n",
      "Epoch  5, CIFAR-10 Batch 2:  Loss is : 1.01574\n",
      "Validation accuracy is: 0.577\n",
      "Epoch  5, CIFAR-10 Batch 3:  Loss is : 0.796043\n",
      "Validation accuracy is: 0.584\n",
      "Epoch  5, CIFAR-10 Batch 4:  Loss is : 1.07339\n",
      "Validation accuracy is: 0.5958\n",
      "Epoch  5, CIFAR-10 Batch 5:  Loss is : 1.07062\n",
      "Validation accuracy is: 0.583\n",
      "Epoch  6, CIFAR-10 Batch 1:  Loss is : 1.10429\n",
      "Validation accuracy is: 0.5938\n",
      "Epoch  6, CIFAR-10 Batch 2:  Loss is : 0.944535\n",
      "Validation accuracy is: 0.5944\n",
      "Epoch  6, CIFAR-10 Batch 3:  Loss is : 0.678271\n",
      "Validation accuracy is: 0.6082\n",
      "Epoch  6, CIFAR-10 Batch 4:  Loss is : 0.998877\n",
      "Validation accuracy is: 0.6086\n",
      "Epoch  6, CIFAR-10 Batch 5:  Loss is : 0.947105\n",
      "Validation accuracy is: 0.6128\n",
      "Epoch  7, CIFAR-10 Batch 1:  Loss is : 1.00928\n",
      "Validation accuracy is: 0.616\n",
      "Epoch  7, CIFAR-10 Batch 2:  Loss is : 0.873763\n",
      "Validation accuracy is: 0.6114\n",
      "Epoch  7, CIFAR-10 Batch 3:  Loss is : 0.600234\n",
      "Validation accuracy is: 0.6184\n",
      "Epoch  7, CIFAR-10 Batch 4:  Loss is : 0.921827\n",
      "Validation accuracy is: 0.6186\n",
      "Epoch  7, CIFAR-10 Batch 5:  Loss is : 0.866405\n",
      "Validation accuracy is: 0.6258\n",
      "Epoch  8, CIFAR-10 Batch 1:  Loss is : 0.912108\n",
      "Validation accuracy is: 0.6294\n",
      "Epoch  8, CIFAR-10 Batch 2:  Loss is : 0.787003\n",
      "Validation accuracy is: 0.6336\n",
      "Epoch  8, CIFAR-10 Batch 3:  Loss is : 0.564347\n",
      "Validation accuracy is: 0.6254\n",
      "Epoch  8, CIFAR-10 Batch 4:  Loss is : 0.805193\n",
      "Validation accuracy is: 0.6416\n",
      "Epoch  8, CIFAR-10 Batch 5:  Loss is : 0.799111\n",
      "Validation accuracy is: 0.633\n",
      "Epoch  9, CIFAR-10 Batch 1:  Loss is : 0.836334\n",
      "Validation accuracy is: 0.6398\n",
      "Epoch  9, CIFAR-10 Batch 2:  Loss is : 0.723195\n",
      "Validation accuracy is: 0.6498\n",
      "Epoch  9, CIFAR-10 Batch 3:  Loss is : 0.503556\n",
      "Validation accuracy is: 0.6416\n",
      "Epoch  9, CIFAR-10 Batch 4:  Loss is : 0.749644\n",
      "Validation accuracy is: 0.6498\n",
      "Epoch  9, CIFAR-10 Batch 5:  Loss is : 0.715102\n",
      "Validation accuracy is: 0.6542\n",
      "Epoch 10, CIFAR-10 Batch 1:  Loss is : 0.761901\n",
      "Validation accuracy is: 0.6572\n",
      "Epoch 10, CIFAR-10 Batch 2:  Loss is : 0.631709\n",
      "Validation accuracy is: 0.659\n",
      "Epoch 10, CIFAR-10 Batch 3:  Loss is : 0.453275\n",
      "Validation accuracy is: 0.6514\n",
      "Epoch 10, CIFAR-10 Batch 4:  Loss is : 0.667496\n",
      "Validation accuracy is: 0.6594\n",
      "Epoch 10, CIFAR-10 Batch 5:  Loss is : 0.665401\n",
      "Validation accuracy is: 0.6572\n",
      "Epoch 11, CIFAR-10 Batch 1:  Loss is : 0.684041\n",
      "Validation accuracy is: 0.664\n",
      "Epoch 11, CIFAR-10 Batch 2:  Loss is : 0.612841\n",
      "Validation accuracy is: 0.6676\n",
      "Epoch 11, CIFAR-10 Batch 3:  Loss is : 0.413139\n",
      "Validation accuracy is: 0.663\n",
      "Epoch 11, CIFAR-10 Batch 4:  Loss is : 0.627292\n",
      "Validation accuracy is: 0.6636\n",
      "Epoch 11, CIFAR-10 Batch 5:  Loss is : 0.592481\n",
      "Validation accuracy is: 0.667\n",
      "Epoch 12, CIFAR-10 Batch 1:  Loss is : 0.616423\n",
      "Validation accuracy is: 0.6762\n",
      "Epoch 12, CIFAR-10 Batch 2:  Loss is : 0.573054\n",
      "Validation accuracy is: 0.6706\n",
      "Epoch 12, CIFAR-10 Batch 3:  Loss is : 0.374185\n",
      "Validation accuracy is: 0.667\n",
      "Epoch 12, CIFAR-10 Batch 4:  Loss is : 0.564115\n",
      "Validation accuracy is: 0.6734\n",
      "Epoch 12, CIFAR-10 Batch 5:  Loss is : 0.549998\n",
      "Validation accuracy is: 0.6762\n",
      "Epoch 13, CIFAR-10 Batch 1:  Loss is : 0.550029\n",
      "Validation accuracy is: 0.6718\n",
      "Epoch 13, CIFAR-10 Batch 2:  Loss is : 0.508717\n",
      "Validation accuracy is: 0.6744\n",
      "Epoch 13, CIFAR-10 Batch 3:  Loss is : 0.352887\n",
      "Validation accuracy is: 0.6706\n",
      "Epoch 13, CIFAR-10 Batch 4:  Loss is : 0.523212\n",
      "Validation accuracy is: 0.681\n",
      "Epoch 13, CIFAR-10 Batch 5:  Loss is : 0.483607\n",
      "Validation accuracy is: 0.6778\n",
      "Epoch 14, CIFAR-10 Batch 1:  Loss is : 0.513278\n",
      "Validation accuracy is: 0.6824\n",
      "Epoch 14, CIFAR-10 Batch 2:  Loss is : 0.489697\n",
      "Validation accuracy is: 0.686\n",
      "Epoch 14, CIFAR-10 Batch 3:  Loss is : 0.333582\n",
      "Validation accuracy is: 0.6838\n",
      "Epoch 14, CIFAR-10 Batch 4:  Loss is : 0.475911\n",
      "Validation accuracy is: 0.6832\n",
      "Epoch 14, CIFAR-10 Batch 5:  Loss is : 0.443802\n",
      "Validation accuracy is: 0.6844\n",
      "Epoch 15, CIFAR-10 Batch 1:  Loss is : 0.482949\n",
      "Validation accuracy is: 0.6892\n",
      "Epoch 15, CIFAR-10 Batch 2:  Loss is : 0.438514\n",
      "Validation accuracy is: 0.6854\n",
      "Epoch 15, CIFAR-10 Batch 3:  Loss is : 0.317696\n",
      "Validation accuracy is: 0.6826\n",
      "Epoch 15, CIFAR-10 Batch 4:  Loss is : 0.430303\n",
      "Validation accuracy is: 0.6828\n",
      "Epoch 15, CIFAR-10 Batch 5:  Loss is : 0.406839\n",
      "Validation accuracy is: 0.6898\n",
      "Epoch 16, CIFAR-10 Batch 1:  Loss is : 0.429393\n",
      "Validation accuracy is: 0.6918\n",
      "Epoch 16, CIFAR-10 Batch 2:  Loss is : 0.385834\n",
      "Validation accuracy is: 0.6892\n",
      "Epoch 16, CIFAR-10 Batch 3:  Loss is : 0.315982\n",
      "Validation accuracy is: 0.6892\n",
      "Epoch 16, CIFAR-10 Batch 4:  Loss is : 0.371261\n",
      "Validation accuracy is: 0.692\n",
      "Epoch 16, CIFAR-10 Batch 5:  Loss is : 0.385074\n",
      "Validation accuracy is: 0.6988\n",
      "Epoch 17, CIFAR-10 Batch 1:  Loss is : 0.407943\n",
      "Validation accuracy is: 0.6926\n",
      "Epoch 17, CIFAR-10 Batch 2:  Loss is : 0.357994\n",
      "Validation accuracy is: 0.6942\n",
      "Epoch 17, CIFAR-10 Batch 3:  Loss is : 0.276536\n",
      "Validation accuracy is: 0.6892\n",
      "Epoch 17, CIFAR-10 Batch 4:  Loss is : 0.336965\n",
      "Validation accuracy is: 0.691\n",
      "Epoch 17, CIFAR-10 Batch 5:  Loss is : 0.358682\n",
      "Validation accuracy is: 0.6938\n",
      "Epoch 18, CIFAR-10 Batch 1:  Loss is : 0.3741\n",
      "Validation accuracy is: 0.6848\n",
      "Epoch 18, CIFAR-10 Batch 2:  Loss is : 0.356483\n",
      "Validation accuracy is: 0.6974\n",
      "Epoch 18, CIFAR-10 Batch 3:  Loss is : 0.257938\n",
      "Validation accuracy is: 0.7004\n",
      "Epoch 18, CIFAR-10 Batch 4:  Loss is : 0.319337\n",
      "Validation accuracy is: 0.6954\n",
      "Epoch 18, CIFAR-10 Batch 5:  Loss is : 0.32858\n",
      "Validation accuracy is: 0.7002\n",
      "Epoch 19, CIFAR-10 Batch 1:  Loss is : 0.320807\n",
      "Validation accuracy is: 0.711\n",
      "Epoch 19, CIFAR-10 Batch 2:  Loss is : 0.291008\n",
      "Validation accuracy is: 0.7032\n",
      "Epoch 19, CIFAR-10 Batch 3:  Loss is : 0.245103\n",
      "Validation accuracy is: 0.6974\n",
      "Epoch 19, CIFAR-10 Batch 4:  Loss is : 0.297652\n",
      "Validation accuracy is: 0.6992\n",
      "Epoch 19, CIFAR-10 Batch 5:  Loss is : 0.300559\n",
      "Validation accuracy is: 0.7008\n",
      "Epoch 20, CIFAR-10 Batch 1:  Loss is : 0.30429\n",
      "Validation accuracy is: 0.6974\n",
      "Epoch 20, CIFAR-10 Batch 2:  Loss is : 0.301993\n",
      "Validation accuracy is: 0.6884\n",
      "Epoch 20, CIFAR-10 Batch 3:  Loss is : 0.228409\n",
      "Validation accuracy is: 0.7034\n",
      "Epoch 20, CIFAR-10 Batch 4:  Loss is : 0.264432\n",
      "Validation accuracy is: 0.7034\n",
      "Epoch 20, CIFAR-10 Batch 5:  Loss is : 0.300709\n",
      "Validation accuracy is: 0.6962\n",
      "Epoch 21, CIFAR-10 Batch 1:  Loss is : 0.277709\n",
      "Validation accuracy is: 0.705\n",
      "Epoch 21, CIFAR-10 Batch 2:  Loss is : 0.290654\n",
      "Validation accuracy is: 0.701\n",
      "Epoch 21, CIFAR-10 Batch 3:  Loss is : 0.211936\n",
      "Validation accuracy is: 0.7074\n",
      "Epoch 21, CIFAR-10 Batch 4:  Loss is : 0.257537\n",
      "Validation accuracy is: 0.7086\n",
      "Epoch 21, CIFAR-10 Batch 5:  Loss is : 0.263867\n",
      "Validation accuracy is: 0.7012\n",
      "Epoch 22, CIFAR-10 Batch 1:  Loss is : 0.24965\n",
      "Validation accuracy is: 0.7126\n",
      "Epoch 22, CIFAR-10 Batch 2:  Loss is : 0.250135\n",
      "Validation accuracy is: 0.7028\n",
      "Epoch 22, CIFAR-10 Batch 3:  Loss is : 0.189243\n",
      "Validation accuracy is: 0.7108\n",
      "Epoch 22, CIFAR-10 Batch 4:  Loss is : 0.237292\n",
      "Validation accuracy is: 0.7064\n",
      "Epoch 22, CIFAR-10 Batch 5:  Loss is : 0.264378\n",
      "Validation accuracy is: 0.7052\n",
      "Epoch 23, CIFAR-10 Batch 1:  Loss is : 0.228298\n",
      "Validation accuracy is: 0.7086\n",
      "Epoch 23, CIFAR-10 Batch 2:  Loss is : 0.231786\n",
      "Validation accuracy is: 0.7048\n",
      "Epoch 23, CIFAR-10 Batch 3:  Loss is : 0.174602\n",
      "Validation accuracy is: 0.7144\n",
      "Epoch 23, CIFAR-10 Batch 4:  Loss is : 0.24859\n",
      "Validation accuracy is: 0.7072\n",
      "Epoch 23, CIFAR-10 Batch 5:  Loss is : 0.240957\n",
      "Validation accuracy is: 0.706\n",
      "Epoch 24, CIFAR-10 Batch 1:  Loss is : 0.242948\n",
      "Validation accuracy is: 0.709\n",
      "Epoch 24, CIFAR-10 Batch 2:  Loss is : 0.197678\n",
      "Validation accuracy is: 0.7076\n",
      "Epoch 24, CIFAR-10 Batch 3:  Loss is : 0.17244\n",
      "Validation accuracy is: 0.7074\n",
      "Epoch 24, CIFAR-10 Batch 4:  Loss is : 0.219264\n",
      "Validation accuracy is: 0.7154\n",
      "Epoch 24, CIFAR-10 Batch 5:  Loss is : 0.214406\n",
      "Validation accuracy is: 0.7122\n",
      "Epoch 25, CIFAR-10 Batch 1:  Loss is : 0.201256\n",
      "Validation accuracy is: 0.7188\n",
      "Epoch 25, CIFAR-10 Batch 2:  Loss is : 0.184779\n",
      "Validation accuracy is: 0.7082\n",
      "Epoch 25, CIFAR-10 Batch 3:  Loss is : 0.145755\n",
      "Validation accuracy is: 0.72\n",
      "Epoch 25, CIFAR-10 Batch 4:  Loss is : 0.221377\n",
      "Validation accuracy is: 0.7068\n",
      "Epoch 25, CIFAR-10 Batch 5:  Loss is : 0.204715\n",
      "Validation accuracy is: 0.7084\n",
      "Epoch 26, CIFAR-10 Batch 1:  Loss is : 0.178315\n",
      "Validation accuracy is: 0.7164\n",
      "Epoch 26, CIFAR-10 Batch 2:  Loss is : 0.191706\n",
      "Validation accuracy is: 0.708\n",
      "Epoch 26, CIFAR-10 Batch 3:  Loss is : 0.145345\n",
      "Validation accuracy is: 0.7166\n",
      "Epoch 26, CIFAR-10 Batch 4:  Loss is : 0.216544\n",
      "Validation accuracy is: 0.717\n",
      "Epoch 26, CIFAR-10 Batch 5:  Loss is : 0.189355\n",
      "Validation accuracy is: 0.7156\n",
      "Epoch 27, CIFAR-10 Batch 1:  Loss is : 0.165063\n",
      "Validation accuracy is: 0.7232\n",
      "Epoch 27, CIFAR-10 Batch 2:  Loss is : 0.170294\n",
      "Validation accuracy is: 0.7132\n",
      "Epoch 27, CIFAR-10 Batch 3:  Loss is : 0.133104\n",
      "Validation accuracy is: 0.7204\n",
      "Epoch 27, CIFAR-10 Batch 4:  Loss is : 0.193264\n",
      "Validation accuracy is: 0.7114\n",
      "Epoch 27, CIFAR-10 Batch 5:  Loss is : 0.180632\n",
      "Validation accuracy is: 0.7132\n",
      "Epoch 28, CIFAR-10 Batch 1:  Loss is : 0.169785\n",
      "Validation accuracy is: 0.7158\n",
      "Epoch 28, CIFAR-10 Batch 2:  Loss is : 0.162809\n",
      "Validation accuracy is: 0.7192\n",
      "Epoch 28, CIFAR-10 Batch 3:  Loss is : 0.131655\n",
      "Validation accuracy is: 0.7192\n",
      "Epoch 28, CIFAR-10 Batch 4:  Loss is : 0.194313\n",
      "Validation accuracy is: 0.7194\n",
      "Epoch 28, CIFAR-10 Batch 5:  Loss is : 0.161387\n",
      "Validation accuracy is: 0.7208\n",
      "Epoch 29, CIFAR-10 Batch 1:  Loss is : 0.14707\n",
      "Validation accuracy is: 0.7234\n",
      "Epoch 29, CIFAR-10 Batch 2:  Loss is : 0.157377\n",
      "Validation accuracy is: 0.7124\n",
      "Epoch 29, CIFAR-10 Batch 3:  Loss is : 0.119921\n",
      "Validation accuracy is: 0.722\n",
      "Epoch 29, CIFAR-10 Batch 4:  Loss is : 0.157277\n",
      "Validation accuracy is: 0.7144\n",
      "Epoch 29, CIFAR-10 Batch 5:  Loss is : 0.146728\n",
      "Validation accuracy is: 0.7222\n",
      "Epoch 30, CIFAR-10 Batch 1:  Loss is : 0.1403\n",
      "Validation accuracy is: 0.7242\n",
      "Epoch 30, CIFAR-10 Batch 2:  Loss is : 0.157033\n",
      "Validation accuracy is: 0.7178\n",
      "Epoch 30, CIFAR-10 Batch 3:  Loss is : 0.11637\n",
      "Validation accuracy is: 0.7204\n",
      "Epoch 30, CIFAR-10 Batch 4:  Loss is : 0.129666\n",
      "Validation accuracy is: 0.7224\n",
      "Epoch 30, CIFAR-10 Batch 5:  Loss is : 0.140147\n",
      "Validation accuracy is: 0.7244\n",
      "Epoch 31, CIFAR-10 Batch 1:  Loss is : 0.138269\n",
      "Validation accuracy is: 0.7208\n",
      "Epoch 31, CIFAR-10 Batch 2:  Loss is : 0.137968\n",
      "Validation accuracy is: 0.7168\n",
      "Epoch 31, CIFAR-10 Batch 3:  Loss is : 0.109837\n",
      "Validation accuracy is: 0.7234\n",
      "Epoch 31, CIFAR-10 Batch 4:  Loss is : 0.140329\n",
      "Validation accuracy is: 0.7184\n",
      "Epoch 31, CIFAR-10 Batch 5:  Loss is : 0.144403\n",
      "Validation accuracy is: 0.718\n",
      "Epoch 32, CIFAR-10 Batch 1:  Loss is : 0.117444\n",
      "Validation accuracy is: 0.7202\n",
      "Epoch 32, CIFAR-10 Batch 2:  Loss is : 0.13666\n",
      "Validation accuracy is: 0.713\n",
      "Epoch 32, CIFAR-10 Batch 3:  Loss is : 0.107677\n",
      "Validation accuracy is: 0.7274\n",
      "Epoch 32, CIFAR-10 Batch 4:  Loss is : 0.127156\n",
      "Validation accuracy is: 0.723\n",
      "Epoch 32, CIFAR-10 Batch 5:  Loss is : 0.109704\n",
      "Validation accuracy is: 0.7194\n",
      "Epoch 33, CIFAR-10 Batch 1:  Loss is : 0.12242\n",
      "Validation accuracy is: 0.729\n",
      "Epoch 33, CIFAR-10 Batch 2:  Loss is : 0.124548\n",
      "Validation accuracy is: 0.7164\n",
      "Epoch 33, CIFAR-10 Batch 3:  Loss is : 0.110539\n",
      "Validation accuracy is: 0.7302\n",
      "Epoch 33, CIFAR-10 Batch 4:  Loss is : 0.124026\n",
      "Validation accuracy is: 0.721\n",
      "Epoch 33, CIFAR-10 Batch 5:  Loss is : 0.116944\n",
      "Validation accuracy is: 0.7248\n",
      "Epoch 34, CIFAR-10 Batch 1:  Loss is : 0.127422\n",
      "Validation accuracy is: 0.7214\n",
      "Epoch 34, CIFAR-10 Batch 2:  Loss is : 0.0997008\n",
      "Validation accuracy is: 0.7162\n",
      "Epoch 34, CIFAR-10 Batch 3:  Loss is : 0.0967753\n",
      "Validation accuracy is: 0.7244\n",
      "Epoch 34, CIFAR-10 Batch 4:  Loss is : 0.105964\n",
      "Validation accuracy is: 0.722\n",
      "Epoch 34, CIFAR-10 Batch 5:  Loss is : 0.123211\n",
      "Validation accuracy is: 0.7224\n",
      "Epoch 35, CIFAR-10 Batch 1:  Loss is : 0.0994989\n",
      "Validation accuracy is: 0.7254\n",
      "Epoch 35, CIFAR-10 Batch 2:  Loss is : 0.105016\n",
      "Validation accuracy is: 0.7238\n",
      "Epoch 35, CIFAR-10 Batch 3:  Loss is : 0.0989601\n",
      "Validation accuracy is: 0.7286\n",
      "Epoch 35, CIFAR-10 Batch 4:  Loss is : 0.13432\n",
      "Validation accuracy is: 0.7268\n",
      "Epoch 35, CIFAR-10 Batch 5:  Loss is : 0.11102\n",
      "Validation accuracy is: 0.7242\n",
      "Epoch 36, CIFAR-10 Batch 1:  Loss is : 0.102419\n",
      "Validation accuracy is: 0.7264\n",
      "Epoch 36, CIFAR-10 Batch 2:  Loss is : 0.107084\n",
      "Validation accuracy is: 0.7138\n",
      "Epoch 36, CIFAR-10 Batch 3:  Loss is : 0.095462\n",
      "Validation accuracy is: 0.7274\n",
      "Epoch 36, CIFAR-10 Batch 4:  Loss is : 0.0915648\n",
      "Validation accuracy is: 0.7232\n",
      "Epoch 36, CIFAR-10 Batch 5:  Loss is : 0.104752\n",
      "Validation accuracy is: 0.7212\n",
      "Epoch 37, CIFAR-10 Batch 1:  Loss is : 0.102551\n",
      "Validation accuracy is: 0.7268\n",
      "Epoch 37, CIFAR-10 Batch 2:  Loss is : 0.086657\n",
      "Validation accuracy is: 0.7218\n",
      "Epoch 37, CIFAR-10 Batch 3:  Loss is : 0.0894404\n",
      "Validation accuracy is: 0.7268\n",
      "Epoch 37, CIFAR-10 Batch 4:  Loss is : 0.0958088\n",
      "Validation accuracy is: 0.7178\n",
      "Epoch 37, CIFAR-10 Batch 5:  Loss is : 0.118608\n",
      "Validation accuracy is: 0.722\n",
      "Epoch 38, CIFAR-10 Batch 1:  Loss is : 0.110593\n",
      "Validation accuracy is: 0.7234\n",
      "Epoch 38, CIFAR-10 Batch 2:  Loss is : 0.0741826\n",
      "Validation accuracy is: 0.7136\n",
      "Epoch 38, CIFAR-10 Batch 3:  Loss is : 0.0734258\n",
      "Validation accuracy is: 0.7274\n",
      "Epoch 38, CIFAR-10 Batch 4:  Loss is : 0.076903\n",
      "Validation accuracy is: 0.7244\n",
      "Epoch 38, CIFAR-10 Batch 5:  Loss is : 0.0950487\n",
      "Validation accuracy is: 0.7212\n",
      "Epoch 39, CIFAR-10 Batch 1:  Loss is : 0.108729\n",
      "Validation accuracy is: 0.731\n",
      "Epoch 39, CIFAR-10 Batch 2:  Loss is : 0.0867302\n",
      "Validation accuracy is: 0.7202\n",
      "Epoch 39, CIFAR-10 Batch 3:  Loss is : 0.0734542\n",
      "Validation accuracy is: 0.7208\n",
      "Epoch 39, CIFAR-10 Batch 4:  Loss is : 0.0985798\n",
      "Validation accuracy is: 0.7142\n",
      "Epoch 39, CIFAR-10 Batch 5:  Loss is : 0.10072\n",
      "Validation accuracy is: 0.7216\n",
      "Epoch 40, CIFAR-10 Batch 1:  Loss is : 0.102651\n",
      "Validation accuracy is: 0.7318\n",
      "Epoch 40, CIFAR-10 Batch 2:  Loss is : 0.0808405\n",
      "Validation accuracy is: 0.7104\n",
      "Epoch 40, CIFAR-10 Batch 3:  Loss is : 0.0816104\n",
      "Validation accuracy is: 0.716\n",
      "Epoch 40, CIFAR-10 Batch 4:  Loss is : 0.0745097\n",
      "Validation accuracy is: 0.7166\n",
      "Epoch 40, CIFAR-10 Batch 5:  Loss is : 0.0970511\n",
      "Validation accuracy is: 0.7266\n",
      "Epoch 41, CIFAR-10 Batch 1:  Loss is : 0.0922814\n",
      "Validation accuracy is: 0.7312\n",
      "Epoch 41, CIFAR-10 Batch 2:  Loss is : 0.0793139\n",
      "Validation accuracy is: 0.7144\n",
      "Epoch 41, CIFAR-10 Batch 3:  Loss is : 0.0711769\n",
      "Validation accuracy is: 0.724\n",
      "Epoch 41, CIFAR-10 Batch 4:  Loss is : 0.0809298\n",
      "Validation accuracy is: 0.726\n",
      "Epoch 41, CIFAR-10 Batch 5:  Loss is : 0.0837\n",
      "Validation accuracy is: 0.7276\n",
      "Epoch 42, CIFAR-10 Batch 1:  Loss is : 0.0879337\n",
      "Validation accuracy is: 0.7258\n",
      "Epoch 42, CIFAR-10 Batch 2:  Loss is : 0.0716518\n",
      "Validation accuracy is: 0.718\n",
      "Epoch 42, CIFAR-10 Batch 3:  Loss is : 0.0675339\n",
      "Validation accuracy is: 0.7266\n",
      "Epoch 42, CIFAR-10 Batch 4:  Loss is : 0.100213\n",
      "Validation accuracy is: 0.7208\n",
      "Epoch 42, CIFAR-10 Batch 5:  Loss is : 0.0752164\n",
      "Validation accuracy is: 0.7308\n",
      "Epoch 43, CIFAR-10 Batch 1:  Loss is : 0.0844107\n",
      "Validation accuracy is: 0.7304\n",
      "Epoch 43, CIFAR-10 Batch 2:  Loss is : 0.065805\n",
      "Validation accuracy is: 0.7148\n",
      "Epoch 43, CIFAR-10 Batch 3:  Loss is : 0.0726364\n",
      "Validation accuracy is: 0.728\n",
      "Epoch 43, CIFAR-10 Batch 4:  Loss is : 0.0823946\n",
      "Validation accuracy is: 0.728\n",
      "Epoch 43, CIFAR-10 Batch 5:  Loss is : 0.0808314\n",
      "Validation accuracy is: 0.7212\n",
      "Epoch 44, CIFAR-10 Batch 1:  Loss is : 0.0682313\n",
      "Validation accuracy is: 0.7262\n",
      "Epoch 44, CIFAR-10 Batch 2:  Loss is : 0.0677347\n",
      "Validation accuracy is: 0.7196\n",
      "Epoch 44, CIFAR-10 Batch 3:  Loss is : 0.0507309\n",
      "Validation accuracy is: 0.7296\n",
      "Epoch 44, CIFAR-10 Batch 4:  Loss is : 0.0920654\n",
      "Validation accuracy is: 0.7208\n",
      "Epoch 44, CIFAR-10 Batch 5:  Loss is : 0.0705468\n",
      "Validation accuracy is: 0.7192\n",
      "Epoch 45, CIFAR-10 Batch 1:  Loss is : 0.0735741\n",
      "Validation accuracy is: 0.7296\n",
      "Epoch 45, CIFAR-10 Batch 2:  Loss is : 0.0725726\n",
      "Validation accuracy is: 0.7162\n",
      "Epoch 45, CIFAR-10 Batch 3:  Loss is : 0.0619729\n",
      "Validation accuracy is: 0.728\n",
      "Epoch 45, CIFAR-10 Batch 4:  Loss is : 0.0803347\n",
      "Validation accuracy is: 0.7246\n",
      "Epoch 45, CIFAR-10 Batch 5:  Loss is : 0.0678142\n",
      "Validation accuracy is: 0.7238\n",
      "Epoch 46, CIFAR-10 Batch 1:  Loss is : 0.0634452\n",
      "Validation accuracy is: 0.7304\n",
      "Epoch 46, CIFAR-10 Batch 2:  Loss is : 0.0675751\n",
      "Validation accuracy is: 0.7186\n",
      "Epoch 46, CIFAR-10 Batch 3:  Loss is : 0.0676959\n",
      "Validation accuracy is: 0.722\n",
      "Epoch 46, CIFAR-10 Batch 4:  Loss is : 0.0733413\n",
      "Validation accuracy is: 0.7298\n",
      "Epoch 46, CIFAR-10 Batch 5:  Loss is : 0.0529501\n",
      "Validation accuracy is: 0.7292\n",
      "Epoch 47, CIFAR-10 Batch 1:  Loss is : 0.0597238\n",
      "Validation accuracy is: 0.7324\n",
      "Epoch 47, CIFAR-10 Batch 2:  Loss is : 0.0698982\n",
      "Validation accuracy is: 0.7124\n",
      "Epoch 47, CIFAR-10 Batch 3:  Loss is : 0.068825\n",
      "Validation accuracy is: 0.7258\n",
      "Epoch 47, CIFAR-10 Batch 4:  Loss is : 0.0565132\n",
      "Validation accuracy is: 0.7262\n",
      "Epoch 47, CIFAR-10 Batch 5:  Loss is : 0.055485\n",
      "Validation accuracy is: 0.7176\n",
      "Epoch 48, CIFAR-10 Batch 1:  Loss is : 0.0580225\n",
      "Validation accuracy is: 0.7266\n",
      "Epoch 48, CIFAR-10 Batch 2:  Loss is : 0.063226\n",
      "Validation accuracy is: 0.7166\n",
      "Epoch 48, CIFAR-10 Batch 3:  Loss is : 0.048321\n",
      "Validation accuracy is: 0.7302\n",
      "Epoch 48, CIFAR-10 Batch 4:  Loss is : 0.0533175\n",
      "Validation accuracy is: 0.7182\n",
      "Epoch 48, CIFAR-10 Batch 5:  Loss is : 0.0584102\n",
      "Validation accuracy is: 0.7222\n",
      "Epoch 49, CIFAR-10 Batch 1:  Loss is : 0.0654191\n",
      "Validation accuracy is: 0.7248\n",
      "Epoch 49, CIFAR-10 Batch 2:  Loss is : 0.064641\n",
      "Validation accuracy is: 0.712\n",
      "Epoch 49, CIFAR-10 Batch 3:  Loss is : 0.0461254\n",
      "Validation accuracy is: 0.7282\n",
      "Epoch 49, CIFAR-10 Batch 4:  Loss is : 0.0475129\n",
      "Validation accuracy is: 0.7218\n",
      "Epoch 49, CIFAR-10 Batch 5:  Loss is : 0.0631877\n",
      "Validation accuracy is: 0.7248\n",
      "Epoch 50, CIFAR-10 Batch 1:  Loss is : 0.0442423\n",
      "Validation accuracy is: 0.73\n",
      "Epoch 50, CIFAR-10 Batch 2:  Loss is : 0.0671143\n",
      "Validation accuracy is: 0.7204\n",
      "Epoch 50, CIFAR-10 Batch 3:  Loss is : 0.0483634\n",
      "Validation accuracy is: 0.7276\n",
      "Epoch 50, CIFAR-10 Batch 4:  Loss is : 0.0570915\n",
      "Validation accuracy is: 0.727\n",
      "Epoch 50, CIFAR-10 Batch 5:  Loss is : 0.0655305\n",
      "Validation accuracy is: 0.7178\n"
     ]
    }
   ],
   "source": [
    "\"\"\"\n",
    "DON'T MODIFY ANYTHING IN THIS CELL\n",
    "\"\"\"\n",
    "save_model_path = './image_classification'\n",
    "\n",
    "print('Training...')\n",
    "with tf.Session() as sess:\n",
    "    # Initializing the variables\n",
    "    sess.run(tf.global_variables_initializer())\n",
    "    \n",
    "    # Training cycle\n",
    "    for epoch in range(epochs):\n",
    "        # Loop over all batches\n",
    "        n_batches = 5\n",
    "        for batch_i in range(1, n_batches + 1):\n",
    "            for batch_features, batch_labels in helper.load_preprocess_training_batch(batch_i, batch_size):\n",
    "                train_neural_network(sess, optimizer, keep_probability, batch_features, batch_labels)\n",
    "            print('Epoch {:>2}, CIFAR-10 Batch {}:  '.format(epoch + 1, batch_i), end='')\n",
    "            print_stats(sess, batch_features, batch_labels, cost, accuracy)\n",
    "            \n",
    "    # Save Model\n",
    "    saver = tf.train.Saver()\n",
    "    save_path = saver.save(sess, save_model_path)"
   ]
  },
  {
   "cell_type": "markdown",
   "metadata": {
    "deletable": true,
    "editable": true
   },
   "source": [
    "# Checkpoint\n",
    "The model has been saved to disk.\n",
    "## Test Model\n",
    "Test your model against the test dataset.  This will be your final accuracy. You should have an accuracy greater than 50%. If you don't, keep tweaking the model architecture and parameters."
   ]
  },
  {
   "cell_type": "code",
   "execution_count": 21,
   "metadata": {
    "collapsed": false,
    "deletable": true,
    "editable": true
   },
   "outputs": [
    {
     "name": "stdout",
     "output_type": "stream",
     "text": [
      "Testing Accuracy: 0.711328125\n",
      "\n"
     ]
    },
    {
     "data": {
      "image/png": "[encoded data removed]",
      "text/plain": [
       "<matplotlib.figure.Figure at 0x7fdd817deeb8>"
      ]
     },
     "metadata": {
      "image/png": {
       "height": 319,
       "width": 355
      }
     },
     "output_type": "display_data"
    }
   ],
   "source": [
    "\"\"\"\n",
    "DON'T MODIFY ANYTHING IN THIS CELL\n",
    "\"\"\"\n",
    "%matplotlib inline\n",
    "%config InlineBackend.figure_format = 'retina'\n",
    "\n",
    "import tensorflow as tf\n",
    "import pickle\n",
    "import helper\n",
    "import random\n",
    "\n",
    "# Set batch size if not already set\n",
    "try:\n",
    "    if batch_size:\n",
    "        pass\n",
    "except NameError:\n",
    "    batch_size = 64\n",
    "\n",
    "save_model_path = './image_classification'\n",
    "n_samples = 4\n",
    "top_n_predictions = 3\n",
    "\n",
    "def test_model():\n",
    "    \"\"\"\n",
    "    Test the saved model against the test dataset\n",
    "    \"\"\"\n",
    "\n",
    "    test_features, test_labels = pickle.load(open('preprocess_training.p', mode='rb'))\n",
    "    loaded_graph = tf.Graph()\n",
    "\n",
    "    with tf.Session(graph=loaded_graph) as sess:\n",
    "        # Load model\n",
    "        loader = tf.train.import_meta_graph(save_model_path + '.meta')\n",
    "        loader.restore(sess, save_model_path)\n",
    "\n",
    "        # Get Tensors from loaded model\n",
    "        loaded_x = loaded_graph.get_tensor_by_name('x:0')\n",
    "        loaded_y = loaded_graph.get_tensor_by_name('y:0')\n",
    "        loaded_keep_prob = loaded_graph.get_tensor_by_name('keep_prob:0')\n",
    "        loaded_logits = loaded_graph.get_tensor_by_name('logits:0')\n",
    "        loaded_acc = loaded_graph.get_tensor_by_name('accuracy:0')\n",
    "        \n",
    "        # Get accuracy in batches for memory limitations\n",
    "        test_batch_acc_total = 0\n",
    "        test_batch_count = 0\n",
    "        \n",
    "        for train_feature_batch, train_label_batch in helper.batch_features_labels(test_features, test_labels, batch_size):\n",
    "            test_batch_acc_total += sess.run(\n",
    "                loaded_acc,\n",
    "                feed_dict={loaded_x: train_feature_batch, loaded_y: train_label_batch, loaded_keep_prob: 1.0})\n",
    "            test_batch_count += 1\n",
    "\n",
    "        print('Testing Accuracy: {}\\n'.format(test_batch_acc_total/test_batch_count))\n",
    "\n",
    "        # Print Random Samples\n",
    "        random_test_features, random_test_labels = tuple(zip(*random.sample(list(zip(test_features, test_labels)), n_samples)))\n",
    "        random_test_predictions = sess.run(\n",
    "            tf.nn.top_k(tf.nn.softmax(loaded_logits), top_n_predictions),\n",
    "            feed_dict={loaded_x: random_test_features, loaded_y: random_test_labels, loaded_keep_prob: 1.0})\n",
    "        helper.display_image_predictions(random_test_features, random_test_labels, random_test_predictions)\n",
    "\n",
    "\n",
    "test_model()"
   ]
  },
  {
   "cell_type": "markdown",
   "metadata": {
    "deletable": true,
    "editable": true
   },
   "source": [
    "## Why 50-80% Accuracy?\n",
    "You might be wondering why you can't get an accuracy any higher. First things first, 50% isn't bad for a simple CNN.  Pure guessing would get you 10% accuracy. That's because there are many more techniques that can be applied to your model and we recemmond that once you are done with this project, you explore!\n",
    "\n",
    "## Submitting This Project\n",
    "When submitting this project, make sure to run all the cells before saving the notebook.  Save the notebook file as \"image_classification.ipynb\" and save it as a HTML file under \"File\" -> \"Download as\".  Include the \"helper.py\" and \"problem_unittests.py\" files in your submission."
   ]
  }
 ],
 "metadata": {
  "kernelspec": {
   "display_name": "Python 3",
   "language": "python",
   "name": "python3"
  },
  "language_info": {
   "codemirror_mode": {
    "name": "ipython",
    "version": 3
   },
   "file_extension": ".py",
   "mimetype": "text/x-python",
   "name": "python",
   "nbconvert_exporter": "python",
   "pygments_lexer": "ipython3",
   "version": "3.5.3"
  }
 },
 "nbformat": 4,
 "nbformat_minor": 0
}
